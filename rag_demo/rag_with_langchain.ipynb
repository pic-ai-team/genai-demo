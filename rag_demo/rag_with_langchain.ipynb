{
 "cells": [
  {
   "cell_type": "markdown",
   "metadata": {},
   "source": [
    "# RAG with Vertex AI Demo"
   ]
  },
  {
   "cell_type": "markdown",
   "metadata": {},
   "source": [
    "### Process of RAG application\n",
    "<img src=\"image.png\" alt=\"RAG\" style=\"height: 700px;\"/>\n",
    "<p> Image Source: <a href=https://python.langchain.com/assets/images/rag_retrieval_generation-1046a4668d6bb08786ef73c56d4f228a.png> Langchain</a> </p>"
   ]
  },
  {
   "cell_type": "markdown",
   "metadata": {},
   "source": [
    "## Single sentence as data source"
   ]
  },
  {
   "cell_type": "markdown",
   "metadata": {},
   "source": [
    " Install Dependencies"
   ]
  },
  {
   "cell_type": "code",
   "execution_count": 1,
   "metadata": {},
   "outputs": [
    {
     "name": "stdout",
     "output_type": "stream",
     "text": [
      "Note: you may need to restart the kernel to use updated packages.\n"
     ]
    }
   ],
   "source": [
    "%pip install --upgrade --quiet  langchain langchain-openai faiss-cpu langchain-google-vertexai==0.0.5 bs4 huggingface_hub"
   ]
  },
  {
   "cell_type": "markdown",
   "metadata": {},
   "source": [
    "Import necessary modules"
   ]
  },
  {
   "cell_type": "code",
   "execution_count": 2,
   "metadata": {},
   "outputs": [
    {
     "name": "stderr",
     "output_type": "stream",
     "text": [
      "2024-02-16 10:17:09.719872: I external/local_tsl/tsl/cuda/cudart_stub.cc:31] Could not find cuda drivers on your machine, GPU will not be used.\n",
      "2024-02-16 10:17:09.777329: E external/local_xla/xla/stream_executor/cuda/cuda_dnn.cc:9261] Unable to register cuDNN factory: Attempting to register factory for plugin cuDNN when one has already been registered\n",
      "2024-02-16 10:17:09.777380: E external/local_xla/xla/stream_executor/cuda/cuda_fft.cc:607] Unable to register cuFFT factory: Attempting to register factory for plugin cuFFT when one has already been registered\n",
      "2024-02-16 10:17:09.779338: E external/local_xla/xla/stream_executor/cuda/cuda_blas.cc:1515] Unable to register cuBLAS factory: Attempting to register factory for plugin cuBLAS when one has already been registered\n",
      "2024-02-16 10:17:09.789358: I external/local_tsl/tsl/cuda/cudart_stub.cc:31] Could not find cuda drivers on your machine, GPU will not be used.\n",
      "2024-02-16 10:17:09.790758: I tensorflow/core/platform/cpu_feature_guard.cc:182] This TensorFlow binary is optimized to use available CPU instructions in performance-critical operations.\n",
      "To enable the following instructions: AVX2 FMA, in other operations, rebuild TensorFlow with the appropriate compiler flags.\n",
      "2024-02-16 10:17:11.047678: W tensorflow/compiler/tf2tensorrt/utils/py_utils.cc:38] TF-TRT Warning: Could not find TensorRT\n"
     ]
    }
   ],
   "source": [
    "import vertexai\n",
    "from langchain_community.vectorstores import FAISS\n",
    "from langchain_core.prompts import ChatPromptTemplate\n",
    "from langchain_google_vertexai import ChatVertexAI,VertexAIEmbeddings"
   ]
  },
  {
   "cell_type": "markdown",
   "metadata": {},
   "source": [
    "Setup Google Cloud Credentials and initialize VertexAI Python Package"
   ]
  },
  {
   "cell_type": "code",
   "execution_count": 3,
   "metadata": {},
   "outputs": [],
   "source": [
    "import os\n",
    "\n",
    "# Initialize Vertex\n",
    "vertexai.init(project='pic-gen-ai-project', location=\"asia-southeast1\")"
   ]
  },
  {
   "cell_type": "markdown",
   "metadata": {},
   "source": [
    "Create embedding and LLM objects"
   ]
  },
  {
   "cell_type": "code",
   "execution_count": 4,
   "metadata": {},
   "outputs": [
    {
     "name": "stderr",
     "output_type": "stream",
     "text": [
      "/home/lumor/.local/lib/python3.9/site-packages/tqdm/auto.py:21: TqdmWarning: IProgress not found. Please update jupyter and ipywidgets. See https://ipywidgets.readthedocs.io/en/stable/user_install.html\n",
      "  from .autonotebook import tqdm as notebook_tqdm\n"
     ]
    }
   ],
   "source": [
    "# Using self-hosted embeddings\n",
    "from langchain_community.embeddings import HuggingFaceHubEmbeddings\n",
    "embeddings = HuggingFaceHubEmbeddings(model=\"http://embeddings.genai-pic.com:8080\")"
   ]
  },
  {
   "cell_type": "code",
   "execution_count": 5,
   "metadata": {},
   "outputs": [],
   "source": [
    "from langchain_google_vertexai import VertexAI\n",
    "llm = VertexAI(model_name=\"gemini-pro\", max_output_tokens=2000)"
   ]
  },
  {
   "cell_type": "markdown",
   "metadata": {},
   "source": [
    "Embed the sentence"
   ]
  },
  {
   "cell_type": "code",
   "execution_count": 6,
   "metadata": {},
   "outputs": [],
   "source": [
    "vectorstore = FAISS.from_texts(\n",
    "    [\"John worked at PIC\"], embedding=embeddings\n",
    ")\n",
    "retriever = vectorstore.as_retriever()"
   ]
  },
  {
   "cell_type": "markdown",
   "metadata": {},
   "source": [
    "Prepare the prompt for RAG"
   ]
  },
  {
   "cell_type": "code",
   "execution_count": 7,
   "metadata": {},
   "outputs": [],
   "source": [
    "template = \"\"\"Answer the question based only on the following context:\n",
    "{context}\n",
    "\n",
    "Question: {question}\n",
    "\"\"\"\n",
    "prompt = ChatPromptTemplate.from_template(template)"
   ]
  },
  {
   "cell_type": "markdown",
   "metadata": {},
   "source": [
    "Create chain from the components"
   ]
  },
  {
   "cell_type": "code",
   "execution_count": 8,
   "metadata": {},
   "outputs": [],
   "source": [
    "from langchain_core.runnables import RunnablePassthrough\n",
    "from langchain_core.output_parsers import StrOutputParser\n",
    "\n",
    "chain = (\n",
    "    {\"context\": retriever, \"question\": RunnablePassthrough()}\n",
    "    | prompt\n",
    "    | llm\n",
    "    | StrOutputParser()\n",
    ")"
   ]
  },
  {
   "cell_type": "markdown",
   "metadata": {},
   "source": [
    "Run the chain"
   ]
  },
  {
   "cell_type": "code",
   "execution_count": 9,
   "metadata": {},
   "outputs": [
    {
     "data": {
      "text/plain": [
       "'John'"
      ]
     },
     "execution_count": 9,
     "metadata": {},
     "output_type": "execute_result"
    }
   ],
   "source": [
    "from langchain.globals import set_debug\n",
    "set_debug(False)\n",
    "chain.invoke(\"Who works at PIC?\")"
   ]
  },
  {
   "cell_type": "markdown",
   "metadata": {},
   "source": [
    "## Creating vectorstore from a website"
   ]
  },
  {
   "cell_type": "markdown",
   "metadata": {},
   "source": [
    "### Data Source Preparation \n",
    "<img src=\"image-1.png\" alt=\"RAG\" style=\"height: 700px;\"/>\n",
    "<p> Image Source: <a href=https://python.langchain.com/assets/images/rag_indexing-8160f90a90a33253d0154659cf7d453f.png> Langchain</a> </p>"
   ]
  },
  {
   "cell_type": "code",
   "execution_count": 10,
   "metadata": {},
   "outputs": [
    {
     "name": "stdout",
     "output_type": "stream",
     "text": [
      "\n",
      "Fitbit’s Charge 6 boasts plenty of new and improved capabilities, including our most accurate heart rate on a fitness tracker yet. With my New Years’ resolutions fresh on my mind, I was given the chance to try one out for myself. Over the course of a week, I wore my Charge 6 everywhere from the gym to my favorite outdoor running routes. Just as important, I also kept it strapped to my wrist at the office and even at night to help track the quality of my sleep. Here are a few of my favorite ways Fitbit’s most advanced tracker yet helped me take my health and fitness to the next level, while also giving me the ability to tell when it might be a better idea to take it easy.1. The heart rate tracking gave me new insights into my overall health.Whether I was furiously pedaling on my gym’s exercise bike or taking a break between sets on the weight bench, Charge 6 did an impressive job of keeping track of my heart rate. Part of the credit goes to its more accurate heart tracking thanks to an improved machine learning algorithm brought over from the Pixel Watch. A more accurate heart rate has a trickle-down effect to other metrics, too, improving the precision of everything from calorie burn tracking to proprietary Fitbit metrics like Active Zone Minutes, Daily Readiness Score, Sleep Score and more. On more than one groggy morning, that data helped me confirm if I might want to put off my workout until the afternoon in favor of more rest.\n",
      "\n",
      "\n",
      "\n",
      "\n",
      "\n",
      "\n",
      "\n",
      "\n",
      "\n",
      "2. I could wear it 24/7 without fear thanks to the extensive battery life.My first morning with the Charge 6, I woke up annoyed with myself: I’d spaced on plugging it in overnight, and I wasn’t sure if the Charge would have enough juice to last the entirety of my morning run. Turns out, my fears were misplaced: On a full battery, Charge 6 can last up to a week before it needs to be topped off and can reach a full charge in under 2 hours. Sure enough, my Charge 6’s display showed that it still had more than half of its battery life preserved — plenty for that day’s workout and possibly even the next. Once I could let go of the fear of waking up to a lifeless screen, I also felt more confident about wearing Charge 6 to bed and taking full advantage of Fitbit’s advanced sleep-tracking capabilities.3. It was easy to DJ my workouts using the YouTube Music app.A great soundtrack can make or break my workout, and nothing makes me reach for the skip button faster than a song with the wrong vibe. Charge 6 users can get a 30-day trial of YouTube Music Premium, and the seamless integration saved me from fussing too much with my Pixel phone when my attention should’ve been on my next set. With just a couple of taps to my wrist, it was simple to perform basic actions like skipping tracks, switching to a new workout mix or dialing up the volume when the playlist landed on one of my power songs. I found the feature especially useful while using more hands-on machines like the rower, where it helped me flip between tracks without completely disrupting my flow.\n",
      "\n",
      "\n",
      "\n",
      "\n",
      "\n",
      "\n",
      "\n",
      "\n",
      "\n",
      "4. It provided plenty of inspiration for varying my routine.Charge 6 users can pick from more than 40 exercise modes, ranging from usual suspects like running, cycling and HIIT to more niche pursuits like kickboxing, canoeing and more. It also comes with 6 free months of Fitbit Premium, and members can unlock an even more extensive library of expert-led workouts and mindfulness sessions. That gave me the nudge I needed to explore my gym more fully — in one session, I split my cardio routine between the bike, the rower, and the stair climber. Again, a few taps is all it took for my Charge 6 to record each workout, and it also clocked a light after-work jog automatically thanks to its handy auto-recognition feature, which can detect when you’re running, cycling and walking. As an added bonus, the Charge 6 can sync your heart rate data via Bluetooth to a wide range of cardio machines, making it easier to keep an eye on your level of exertion ri\n"
     ]
    }
   ],
   "source": [
    "from langchain_community.document_loaders import WebBaseLoader\n",
    "\n",
    "# Load fitbit review blog from Google\n",
    "loader = WebBaseLoader(\"https://blog.google/products/fitbit/fitbit-charge-6-overview/\")\n",
    "documents = loader.load()\n",
    "\n",
    "#Preview the contents of the webpage\n",
    "page_content = documents[0].page_content[12107:19000]\n",
    "print(page_content[1000:5000])"
   ]
  },
  {
   "cell_type": "markdown",
   "metadata": {},
   "source": [
    "Do some manual cleaning up for the page content"
   ]
  },
  {
   "cell_type": "code",
   "execution_count": 11,
   "metadata": {},
   "outputs": [],
   "source": [
    "documents[0].page_content= documents[0].page_content[12707:-1500]"
   ]
  },
  {
   "cell_type": "markdown",
   "metadata": {},
   "source": [
    "Chunking the website document into smaller pieces"
   ]
  },
  {
   "cell_type": "code",
   "execution_count": 12,
   "metadata": {},
   "outputs": [],
   "source": [
    "from langchain.text_splitter import RecursiveCharacterTextSplitter\n",
    "\n",
    "text_splitter = RecursiveCharacterTextSplitter(chunk_size = 300, chunk_overlap = 10)\n",
    "all_splits = text_splitter.split_documents(documents)"
   ]
  },
  {
   "cell_type": "markdown",
   "metadata": {},
   "source": [
    "Preview chunks"
   ]
  },
  {
   "cell_type": "code",
   "execution_count": 13,
   "metadata": {},
   "outputs": [
    {
     "name": "stdout",
     "output_type": "stream",
     "text": [
      "page_content='read\\n\\n\\n\\n\\n\\n\\nShare\\n\\n\\n\\n\\n\\n\\nTwitter\\n\\n\\n\\n\\n\\nFacebook\\n\\n\\n\\n\\n\\nLinkedIn\\n\\n\\n\\n\\n\\nMail\\n\\n\\n\\n\\n\\n\\nCopy link\\n\\n\\n\\n\\n\\n\\n\\n\\n\\n\\n          Fitbit’s latest wearable helped give me plenty of new insights to keep my health and workout goals on track.\\n        \\n\\n\\n\\n\\n\\n\\n\\n\\n\\n\\n\\n\\n\\nMike Darling\\n\\n      Contributor, The Keyword' metadata={'source': 'https://blog.google/products/fitbit/fitbit-charge-6-overview/', 'title': 'Fitbit Charge 6: What I learned after a week of workouts', 'description': 'Over the course of a week, I wore my Fitbit Charge 6 everywhere from the gym to my favorite outdoor running routes. Here are a few of my favorite ways Fitbit’s most advanced tracker yet helped me take my health and fitness to the next level.', 'language': 'en-us'}\n",
      "page_content='Share\\n\\n\\n\\n\\n\\n\\nTwitter\\n\\n\\n\\n\\n\\nFacebook\\n\\n\\n\\n\\n\\nLinkedIn\\n\\n\\n\\n\\n\\nMail\\n\\n\\n\\n\\n\\n\\nCopy link' metadata={'source': 'https://blog.google/products/fitbit/fitbit-charge-6-overview/', 'title': 'Fitbit Charge 6: What I learned after a week of workouts', 'description': 'Over the course of a week, I wore my Fitbit Charge 6 everywhere from the gym to my favorite outdoor running routes. Here are a few of my favorite ways Fitbit’s most advanced tracker yet helped me take my health and fitness to the next level.', 'language': 'en-us'}\n",
      "page_content='Fitbit’s Charge 6 boasts plenty of new and improved capabilities, including our most accurate heart rate on a fitness tracker yet. With my New Years’ resolutions fresh on my mind, I was given the chance to try one out for myself. Over the course of a week, I wore my Charge 6 everywhere from the gym' metadata={'source': 'https://blog.google/products/fitbit/fitbit-charge-6-overview/', 'title': 'Fitbit Charge 6: What I learned after a week of workouts', 'description': 'Over the course of a week, I wore my Fitbit Charge 6 everywhere from the gym to my favorite outdoor running routes. Here are a few of my favorite ways Fitbit’s most advanced tracker yet helped me take my health and fitness to the next level.', 'language': 'en-us'}\n",
      "page_content='the gym to my favorite outdoor running routes. Just as important, I also kept it strapped to my wrist at the office and even at night to help track the quality of my sleep. Here are a few of my favorite ways Fitbit’s most advanced tracker yet helped me take my health and fitness to the next level,' metadata={'source': 'https://blog.google/products/fitbit/fitbit-charge-6-overview/', 'title': 'Fitbit Charge 6: What I learned after a week of workouts', 'description': 'Over the course of a week, I wore my Fitbit Charge 6 everywhere from the gym to my favorite outdoor running routes. Here are a few of my favorite ways Fitbit’s most advanced tracker yet helped me take my health and fitness to the next level.', 'language': 'en-us'}\n",
      "page_content='level, while also giving me the ability to tell when it might be a better idea to take it easy.1. The heart rate tracking gave me new insights into my overall health.Whether I was furiously pedaling on my gym’s exercise bike or taking a break between sets on the weight bench, Charge 6 did an' metadata={'source': 'https://blog.google/products/fitbit/fitbit-charge-6-overview/', 'title': 'Fitbit Charge 6: What I learned after a week of workouts', 'description': 'Over the course of a week, I wore my Fitbit Charge 6 everywhere from the gym to my favorite outdoor running routes. Here are a few of my favorite ways Fitbit’s most advanced tracker yet helped me take my health and fitness to the next level.', 'language': 'en-us'}\n",
      "page_content='6 did an impressive job of keeping track of my heart rate. Part of the credit goes to its more accurate heart tracking thanks to an improved machine learning algorithm brought over from the Pixel Watch. A more accurate heart rate has a trickle-down effect to other metrics, too, improving the' metadata={'source': 'https://blog.google/products/fitbit/fitbit-charge-6-overview/', 'title': 'Fitbit Charge 6: What I learned after a week of workouts', 'description': 'Over the course of a week, I wore my Fitbit Charge 6 everywhere from the gym to my favorite outdoor running routes. Here are a few of my favorite ways Fitbit’s most advanced tracker yet helped me take my health and fitness to the next level.', 'language': 'en-us'}\n",
      "page_content='the precision of everything from calorie burn tracking to proprietary Fitbit metrics like Active Zone Minutes, Daily Readiness Score, Sleep Score and more. On more than one groggy morning, that data helped me confirm if I might want to put off my workout until the afternoon in favor of more rest.' metadata={'source': 'https://blog.google/products/fitbit/fitbit-charge-6-overview/', 'title': 'Fitbit Charge 6: What I learned after a week of workouts', 'description': 'Over the course of a week, I wore my Fitbit Charge 6 everywhere from the gym to my favorite outdoor running routes. Here are a few of my favorite ways Fitbit’s most advanced tracker yet helped me take my health and fitness to the next level.', 'language': 'en-us'}\n",
      "page_content='2. I could wear it 24/7 without fear thanks to the extensive battery life.My first morning with the Charge 6, I woke up annoyed with myself: I’d spaced on plugging it in overnight, and I wasn’t sure if the Charge would have enough juice to last the entirety of my morning run. Turns out, my fears' metadata={'source': 'https://blog.google/products/fitbit/fitbit-charge-6-overview/', 'title': 'Fitbit Charge 6: What I learned after a week of workouts', 'description': 'Over the course of a week, I wore my Fitbit Charge 6 everywhere from the gym to my favorite outdoor running routes. Here are a few of my favorite ways Fitbit’s most advanced tracker yet helped me take my health and fitness to the next level.', 'language': 'en-us'}\n",
      "page_content='my fears were misplaced: On a full battery, Charge 6 can last up to a week before it needs to be topped off and can reach a full charge in under 2 hours. Sure enough, my Charge 6’s display showed that it still had more than half of its battery life preserved — plenty for that day’s workout and' metadata={'source': 'https://blog.google/products/fitbit/fitbit-charge-6-overview/', 'title': 'Fitbit Charge 6: What I learned after a week of workouts', 'description': 'Over the course of a week, I wore my Fitbit Charge 6 everywhere from the gym to my favorite outdoor running routes. Here are a few of my favorite ways Fitbit’s most advanced tracker yet helped me take my health and fitness to the next level.', 'language': 'en-us'}\n",
      "page_content='and possibly even the next. Once I could let go of the fear of waking up to a lifeless screen, I also felt more confident about wearing Charge 6 to bed and taking full advantage of Fitbit’s advanced sleep-tracking capabilities.3. It was easy to DJ my workouts using the YouTube Music app.A great' metadata={'source': 'https://blog.google/products/fitbit/fitbit-charge-6-overview/', 'title': 'Fitbit Charge 6: What I learned after a week of workouts', 'description': 'Over the course of a week, I wore my Fitbit Charge 6 everywhere from the gym to my favorite outdoor running routes. Here are a few of my favorite ways Fitbit’s most advanced tracker yet helped me take my health and fitness to the next level.', 'language': 'en-us'}\n",
      "page_content='great soundtrack can make or break my workout, and nothing makes me reach for the skip button faster than a song with the wrong vibe. Charge 6 users can get a 30-day trial of YouTube Music Premium, and the seamless integration saved me from fussing too much with my Pixel phone when my attention' metadata={'source': 'https://blog.google/products/fitbit/fitbit-charge-6-overview/', 'title': 'Fitbit Charge 6: What I learned after a week of workouts', 'description': 'Over the course of a week, I wore my Fitbit Charge 6 everywhere from the gym to my favorite outdoor running routes. Here are a few of my favorite ways Fitbit’s most advanced tracker yet helped me take my health and fitness to the next level.', 'language': 'en-us'}\n",
      "page_content='attention should’ve been on my next set. With just a couple of taps to my wrist, it was simple to perform basic actions like skipping tracks, switching to a new workout mix or dialing up the volume when the playlist landed on one of my power songs. I found the feature especially useful while using' metadata={'source': 'https://blog.google/products/fitbit/fitbit-charge-6-overview/', 'title': 'Fitbit Charge 6: What I learned after a week of workouts', 'description': 'Over the course of a week, I wore my Fitbit Charge 6 everywhere from the gym to my favorite outdoor running routes. Here are a few of my favorite ways Fitbit’s most advanced tracker yet helped me take my health and fitness to the next level.', 'language': 'en-us'}\n",
      "page_content='using more hands-on machines like the rower, where it helped me flip between tracks without completely disrupting my flow.' metadata={'source': 'https://blog.google/products/fitbit/fitbit-charge-6-overview/', 'title': 'Fitbit Charge 6: What I learned after a week of workouts', 'description': 'Over the course of a week, I wore my Fitbit Charge 6 everywhere from the gym to my favorite outdoor running routes. Here are a few of my favorite ways Fitbit’s most advanced tracker yet helped me take my health and fitness to the next level.', 'language': 'en-us'}\n",
      "page_content='4. It provided plenty of inspiration for varying my routine.Charge 6 users can pick from more than 40 exercise modes, ranging from usual suspects like running, cycling and HIIT to more niche pursuits like kickboxing, canoeing and more. It also comes with 6 free months of Fitbit Premium, and members' metadata={'source': 'https://blog.google/products/fitbit/fitbit-charge-6-overview/', 'title': 'Fitbit Charge 6: What I learned after a week of workouts', 'description': 'Over the course of a week, I wore my Fitbit Charge 6 everywhere from the gym to my favorite outdoor running routes. Here are a few of my favorite ways Fitbit’s most advanced tracker yet helped me take my health and fitness to the next level.', 'language': 'en-us'}\n",
      "page_content='members can unlock an even more extensive library of expert-led workouts and mindfulness sessions. That gave me the nudge I needed to explore my gym more fully — in one session, I split my cardio routine between the bike, the rower, and the stair climber. Again, a few taps is all it took for my' metadata={'source': 'https://blog.google/products/fitbit/fitbit-charge-6-overview/', 'title': 'Fitbit Charge 6: What I learned after a week of workouts', 'description': 'Over the course of a week, I wore my Fitbit Charge 6 everywhere from the gym to my favorite outdoor running routes. Here are a few of my favorite ways Fitbit’s most advanced tracker yet helped me take my health and fitness to the next level.', 'language': 'en-us'}\n",
      "page_content='for my Charge 6 to record each workout, and it also clocked a light after-work jog automatically thanks to its handy auto-recognition feature, which can detect when you’re running, cycling and walking. As an added bonus, the Charge 6 can sync your heart rate data via Bluetooth to a wide range of' metadata={'source': 'https://blog.google/products/fitbit/fitbit-charge-6-overview/', 'title': 'Fitbit Charge 6: What I learned after a week of workouts', 'description': 'Over the course of a week, I wore my Fitbit Charge 6 everywhere from the gym to my favorite outdoor running routes. Here are a few of my favorite ways Fitbit’s most advanced tracker yet helped me take my health and fitness to the next level.', 'language': 'en-us'}\n",
      "page_content='range of cardio machines, making it easier to keep an eye on your level of exertion right on the screen.5. It helped me realize when my body might need some extra recovery time.I don’t always do the best job of listening to my body when it’s telling me I need a rest day. Fitbit’s Daily Readiness' metadata={'source': 'https://blog.google/products/fitbit/fitbit-charge-6-overview/', 'title': 'Fitbit Charge 6: What I learned after a week of workouts', 'description': 'Over the course of a week, I wore my Fitbit Charge 6 everywhere from the gym to my favorite outdoor running routes. Here are a few of my favorite ways Fitbit’s most advanced tracker yet helped me take my health and fitness to the next level.', 'language': 'en-us'}\n",
      "page_content='Readiness Score (available to Premium subscribers) made that inner voice harder to ignore by assigning me a number ranging from 1 to 100 based on stress factors like my amount of sleep, physical activity, and heart rate variability on a day-to-day basis. (The lower the number, the more likely it is' metadata={'source': 'https://blog.google/products/fitbit/fitbit-charge-6-overview/', 'title': 'Fitbit Charge 6: What I learned after a week of workouts', 'description': 'Over the course of a week, I wore my Fitbit Charge 6 everywhere from the gym to my favorite outdoor running routes. Here are a few of my favorite ways Fitbit’s most advanced tracker yet helped me take my health and fitness to the next level.', 'language': 'en-us'}\n",
      "page_content='it is you might need to take it easy.) Charge 6 also has a few other features that can help you keep an eye out for other irregularities, such as an ECG app for taking a heart rhythm assessment, an oxygen saturation (SpO2) monitor and notifications for unusually high and low heart rate activity.' metadata={'source': 'https://blog.google/products/fitbit/fitbit-charge-6-overview/', 'title': 'Fitbit Charge 6: What I learned after a week of workouts', 'description': 'Over the course of a week, I wore my Fitbit Charge 6 everywhere from the gym to my favorite outdoor running routes. Here are a few of my favorite ways Fitbit’s most advanced tracker yet helped me take my health and fitness to the next level.', 'language': 'en-us'}\n",
      "page_content='activity. Since my resting heart rate tends to be on the lower end, any sudden uptick when I wasn’t exercising helped me slow down and reflect on what was stressing me out, or whether I really needed that second cup of coffee.' metadata={'source': 'https://blog.google/products/fitbit/fitbit-charge-6-overview/', 'title': 'Fitbit Charge 6: What I learned after a week of workouts', 'description': 'Over the course of a week, I wore my Fitbit Charge 6 everywhere from the gym to my favorite outdoor running routes. Here are a few of my favorite ways Fitbit’s most advanced tracker yet helped me take my health and fitness to the next level.', 'language': 'en-us'}\n",
      "page_content='6. The apps made long outdoor runs easier to manage.In addition to the YouTube Music integration, Charge 6 also pairs well with a few of my other favorite Google products — specifically, Maps and Wallet, both available for the first time on a Fitbit tracker. If I was on my own in an unfamiliar' metadata={'source': 'https://blog.google/products/fitbit/fitbit-charge-6-overview/', 'title': 'Fitbit Charge 6: What I learned after a week of workouts', 'description': 'Over the course of a week, I wore my Fitbit Charge 6 everywhere from the gym to my favorite outdoor running routes. Here are a few of my favorite ways Fitbit’s most advanced tracker yet helped me take my health and fitness to the next level.', 'language': 'en-us'}\n",
      "page_content='place, that meant turn-by-turn directions were just a glance away. Meanwhile, the Wallet app came in handy during weekly jogs with my local run club. Rather than leave the house with a wad of cash or a credit card that could fall out of my pocket, I could use the Wallet app to pay for my post-run' metadata={'source': 'https://blog.google/products/fitbit/fitbit-charge-6-overview/', 'title': 'Fitbit Charge 6: What I learned after a week of workouts', 'description': 'Over the course of a week, I wore my Fitbit Charge 6 everywhere from the gym to my favorite outdoor running routes. Here are a few of my favorite ways Fitbit’s most advanced tracker yet helped me take my health and fitness to the next level.', 'language': 'en-us'}\n",
      "page_content='post-run coffee with a flick of my wrist on the cafe’s contactless payment system thanks to Charge 6’s built-in NFC chip. And if you’re the kind of person who struggles to disconnect even when you’re mid-stride (guilty), Charge 6 includes at-a-glance message notifications (provided your phone is' metadata={'source': 'https://blog.google/products/fitbit/fitbit-charge-6-overview/', 'title': 'Fitbit Charge 6: What I learned after a week of workouts', 'description': 'Over the course of a week, I wore my Fitbit Charge 6 everywhere from the gym to my favorite outdoor running routes. Here are a few of my favorite ways Fitbit’s most advanced tracker yet helped me take my health and fitness to the next level.', 'language': 'en-us'}\n",
      "page_content='phone is within 30 feet) and gives you the ability to answer or reject incoming calls with just one tap.' metadata={'source': 'https://blog.google/products/fitbit/fitbit-charge-6-overview/', 'title': 'Fitbit Charge 6: What I learned after a week of workouts', 'description': 'Over the course of a week, I wore my Fitbit Charge 6 everywhere from the gym to my favorite outdoor running routes. Here are a few of my favorite ways Fitbit’s most advanced tracker yet helped me take my health and fitness to the next level.', 'language': 'en-us'}\n",
      "page_content='POSTED IN:\\n\\n\\n\\n\\n\\n\\nFitbit\\n\\n\\n  \\n\\n\\n\\n\\n\\nMaps\\n\\n\\n  \\n\\n\\n\\n\\n\\n\\n\\n\\n\\n\\n\\n\\n\\n              About the author\\n          \\n\\n\\n\\n\\n\\n\\n\\n\\n\\n\\n\\n\\n\\n\\n\\n                  Mike Darling\\n                \\n\\n                    Contributor, The Keyword' metadata={'source': 'https://blog.google/products/fitbit/fitbit-charge-6-overview/', 'title': 'Fitbit Charge 6: What I learned after a week of workouts', 'description': 'Over the course of a week, I wore my Fitbit Charge 6 everywhere from the gym to my favorite outdoor running routes. Here are a few of my favorite ways Fitbit’s most advanced tracker yet helped me take my health and fitness to the next level.', 'language': 'en-us'}\n",
      "page_content=\"Mike Darling is an audience development editor at Google where he focuses on content strategy for the Keyword blog and Google's social channels. Previously he was the executive editor of Men's Health and a managing editor at Vice.\\n                  \\n\\nRead more from Mike\" metadata={'source': 'https://blog.google/products/fitbit/fitbit-charge-6-overview/', 'title': 'Fitbit Charge 6: What I learned after a week of workouts', 'description': 'Over the course of a week, I wore my Fitbit Charge 6 everywhere from the gym to my favorite outdoor running routes. Here are a few of my favorite ways Fitbit’s most advanced tracker yet helped me take my health and fitness to the next level.', 'language': 'en-us'}\n",
      "page_content='Related stories\\n          \\n\\n\\n\\n\\n\\n\\n\\n\\n\\n\\n\\n\\n\\n\\n\\n\\n\\nSustainability\\nHow satellites, algorithms and AI can help map and trace methane sources\\n\\n\\n\\n                  By\\n                  \\n                    \\n                    Yael Maguire' metadata={'source': 'https://blog.google/products/fitbit/fitbit-charge-6-overview/', 'title': 'Fitbit Charge 6: What I learned after a week of workouts', 'description': 'Over the course of a week, I wore my Fitbit Charge 6 everywhere from the gym to my favorite outdoor running routes. Here are a few of my favorite ways Fitbit’s most advanced tracker yet helped me take my health and fitness to the next level.', 'language': 'en-us'}\n",
      "page_content='Feb 14, 2024\\n\\n\\n\\n\\n\\n\\n\\n\\n\\n\\n\\n\\n\\n\\n\\n\\n\\n\\nMaps\\nHow machine learning keeps contributed content helpful\\n\\n\\n\\n                  By\\n                  \\n                    \\n                    Dan Pritchett\\n                    \\n\\n Feb 13, 2024' metadata={'source': 'https://blog.google/products/fitbit/fitbit-charge-6-overview/', 'title': 'Fitbit Charge 6: What I learned after a week of workouts', 'description': 'Over the course of a week, I wore my Fitbit Charge 6 everywhere from the gym to my favorite outdoor running routes. Here are a few of my favorite ways Fitbit’s most advanced tracker yet helped me take my health and fitness to the next level.', 'language': 'en-us'}\n",
      "page_content='Maps\\nA new way to discover places with generative AI in Maps\\n\\n\\n\\n                  By\\n                  \\n                    \\n                    Miriam Daniel\\n                    \\n\\n Feb 01, 2024\\n\\n\\n\\n\\n\\n\\n\\n\\n\\n\\n\\n\\n\\n\\n\\n\\n\\n\\nFitbit\\n6 tips to stick to your 2024 goals from SoulCycle instructors' metadata={'source': 'https://blog.google/products/fitbit/fitbit-charge-6-overview/', 'title': 'Fitbit Charge 6: What I learned after a week of workouts', 'description': 'Over the course of a week, I wore my Fitbit Charge 6 everywhere from the gym to my favorite outdoor running routes. Here are a few of my favorite ways Fitbit’s most advanced tracker yet helped me take my health and fitness to the next level.', 'language': 'en-us'}\n",
      "Total chunks: 29\n"
     ]
    }
   ],
   "source": [
    "for split in all_splits:\n",
    "    print(split)\n",
    "print(f\"Total chunks: {len(all_splits)}\")"
   ]
  },
  {
   "cell_type": "markdown",
   "metadata": {},
   "source": [
    "Create Vector Store from the chunked documents"
   ]
  },
  {
   "cell_type": "code",
   "execution_count": 14,
   "metadata": {},
   "outputs": [],
   "source": [
    "web_vectorstore = FAISS.from_documents(\n",
    "    all_splits, embedding=embeddings\n",
    ")"
   ]
  },
  {
   "cell_type": "markdown",
   "metadata": {},
   "source": [
    "Create Prompt template"
   ]
  },
  {
   "cell_type": "code",
   "execution_count": 15,
   "metadata": {},
   "outputs": [],
   "source": [
    "prompt = ChatPromptTemplate.from_messages([\n",
    "    (\"human\", \"You are an assistant for question-answering tasks. Use the following pieces of retrieved context to answer the question. If you don't know the answer, just say that you don't know. Use three sentences maximum and keep the answer concise.\\\n",
    "                Question: {question} \\\n",
    "                Context: {context} \\\n",
    "                Answer:\")\n",
    "])"
   ]
  },
  {
   "cell_type": "markdown",
   "metadata": {},
   "source": [
    "Create RAG chain"
   ]
  },
  {
   "cell_type": "code",
   "execution_count": 16,
   "metadata": {},
   "outputs": [],
   "source": [
    "from langchain.chains import RetrievalQA\n",
    "\n",
    "qa_chain = RetrievalQA.from_chain_type(\n",
    "    llm,\n",
    "    retriever=web_vectorstore.as_retriever(search_kwargs={\"k\": 15}),\n",
    "    chain_type_kwargs={\"prompt\": prompt}\n",
    ")"
   ]
  },
  {
   "cell_type": "markdown",
   "metadata": {},
   "source": [
    "Set Langchain Debug settings to `True` to see the context"
   ]
  },
  {
   "cell_type": "code",
   "execution_count": 17,
   "metadata": {},
   "outputs": [],
   "source": [
    "set_debug(False)"
   ]
  },
  {
   "cell_type": "code",
   "execution_count": 18,
   "metadata": {},
   "outputs": [
    {
     "name": "stderr",
     "output_type": "stream",
     "text": [
      "/home/lumor/.local/lib/python3.9/site-packages/langchain_core/_api/deprecation.py:117: LangChainDeprecationWarning: The function `__call__` was deprecated in LangChain 0.1.0 and will be removed in 0.2.0. Use invoke instead.\n",
      "  warn_deprecated(\n"
     ]
    },
    {
     "data": {
      "text/plain": [
       "'The battery life of the Fitbit Charge 6 is up to a week on a full charge and can be fully charged in under 2 hours.'"
      ]
     },
     "execution_count": 18,
     "metadata": {},
     "output_type": "execute_result"
    }
   ],
   "source": [
    "question = \"How's the battery life?\"\n",
    "result = qa_chain({\"query\": question})\n",
    "result[\"result\"]"
   ]
  },
  {
   "cell_type": "code",
   "execution_count": 19,
   "metadata": {},
   "outputs": [
    {
     "data": {
      "text/plain": [
       "'I apologize, but the provided context does not mention anything about exercise modes. Therefore, I cannot answer this question from the provided context.'"
      ]
     },
     "execution_count": 19,
     "metadata": {},
     "output_type": "execute_result"
    }
   ],
   "source": [
    "question = \"exercise modes?\"\n",
    "result = qa_chain({\"query\": question})\n",
    "result[\"result\"]"
   ]
  },
  {
   "cell_type": "code",
   "execution_count": 20,
   "metadata": {},
   "outputs": [
    {
     "data": {
      "text/plain": [
       "'Yes, it has an oxygen saturation (SpO2) monitor. It is one of the features that can help you keep an eye out for other irregularities.'"
      ]
     },
     "execution_count": 20,
     "metadata": {},
     "output_type": "execute_result"
    }
   ],
   "source": [
    "question = \"Does it have oxygen saturation (SpO2) monitor ?\"\n",
    "result = qa_chain({\"query\": question})\n",
    "result[\"result\"]"
   ]
  },
  {
   "cell_type": "markdown",
   "metadata": {},
   "source": [
    "## Using LLM models for Named-entity recognition\n",
    "Create a prompt for the LLM to detect the entities inside a input sentence. Mentioned in the pormpt for the output to be in JSON format. Then this output can easily integrate with other components of the application."
   ]
  },
  {
   "cell_type": "code",
   "execution_count": 21,
   "metadata": {},
   "outputs": [],
   "source": [
    "ner_prompt = ChatPromptTemplate.from_template(\n",
    "\"\"\"You are a powerful language model trained to understand the world. Today, you want to become an expert in identifying named entities in sentences. \n",
    "Tell me what kind of things are considered named entities (e.g., people, places, organizations, etc.). Tell me which words are the named entities and what type of entity they are. \n",
    "Your ouput needs to be a valid JSON format.\n",
    "Input: {query}\n",
    "Ouput:\"\"\")"
   ]
  },
  {
   "cell_type": "markdown",
   "metadata": {},
   "source": [
    "Create LLM chain with Langchain"
   ]
  },
  {
   "cell_type": "code",
   "execution_count": 22,
   "metadata": {},
   "outputs": [],
   "source": [
    "from langchain_core.output_parsers import StrOutputParser\n",
    "output_parser = StrOutputParser()\n",
    "set_debug(False)\n",
    "\n",
    "ner_chain = ner_prompt | llm | output_parser"
   ]
  },
  {
   "cell_type": "markdown",
   "metadata": {},
   "source": [
    "Run the chain"
   ]
  },
  {
   "cell_type": "code",
   "execution_count": 23,
   "metadata": {},
   "outputs": [
    {
     "data": {
      "text/plain": [
       "'```json\\n{\\n  \"named_entities\": [\\n    {\\n      \"text\": \"Sarah\",\\n      \"type\": \"PERSON\"\\n    },\\n    {\\n      \"text\": \"Paris\",\\n      \"type\": \"GPE\"\\n    },\\n    {\\n      \"text\": \"Eiffel Tower\",\\n      \"type\": \"FAC\"\\n    }\\n  ]\\n}\\n```'"
      ]
     },
     "execution_count": 23,
     "metadata": {},
     "output_type": "execute_result"
    }
   ],
   "source": [
    "ner_chain.invoke({\"query\": \"Tomorrow, I'm flying to Paris with my friend Sarah to visit the Eiffel Tower.\"})"
   ]
  },
  {
   "cell_type": "code",
   "execution_count": 24,
   "metadata": {},
   "outputs": [
    {
     "data": {
      "text/plain": [
       "'```JSON\\n{\\n  \"entities\": [\\n    {\\n      \"text\": \"莎拉\",\\n      \"type\": \"PERSON\"\\n    },\\n    {\\n      \"text\": \"巴黎\",\\n      \"type\": \"LOCATION\"\\n    },\\n    {\\n      \"text\": \"埃菲尔铁塔\",\\n      \"type\": \"LOCATION\"\\n    }\\n  ]\\n}\\n```'"
      ]
     },
     "execution_count": 24,
     "metadata": {},
     "output_type": "execute_result"
    }
   ],
   "source": [
    "ner_chain.invoke({\"query\":\"明天我和朋友莎拉一起去巴黎看埃菲尔铁塔，我们会搭飞机过去\"})"
   ]
  }
 ],
 "metadata": {
  "kernelspec": {
   "display_name": "Python 3",
   "language": "python",
   "name": "python3"
  },
  "language_info": {
   "codemirror_mode": {
    "name": "ipython",
    "version": 3
   },
   "file_extension": ".py",
   "mimetype": "text/x-python",
   "name": "python",
   "nbconvert_exporter": "python",
   "pygments_lexer": "ipython3",
   "version": "3.9.2"
  }
 },
 "nbformat": 4,
 "nbformat_minor": 2
}
